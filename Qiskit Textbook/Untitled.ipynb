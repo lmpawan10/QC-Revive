{
 "cells": [
  {
   "cell_type": "code",
   "execution_count": 1,
   "id": "2f4f283a",
   "metadata": {},
   "outputs": [],
   "source": [
    "from qiskit import QuantumCircuit, assemble, Aer, execute\n",
    "from qiskit.visualization import plot_histogram, plot_bloch_vector\n",
    "from math import sqrt, pi"
   ]
  },
  {
   "cell_type": "code",
   "execution_count": 2,
   "id": "a62d62b7",
   "metadata": {},
   "outputs": [],
   "source": [
    "qc=QuantumCircuit(1) #create a quantum circuit with a qubit, with state |0>"
   ]
  },
  {
   "cell_type": "code",
   "execution_count": 4,
   "id": "93a1191b",
   "metadata": {},
   "outputs": [
    {
     "data": {
      "text/html": [
       "<pre style=\"word-wrap: normal;white-space: pre;background: #fff0;line-height: 1.1;font-family: &quot;Courier New&quot;,Courier,monospace\">   ┌─────────────────┐\n",
       "q: ┤ Initialize(0,1) ├\n",
       "   └─────────────────┘</pre>"
      ],
      "text/plain": [
       "   ┌─────────────────┐\n",
       "q: ┤ Initialize(0,1) ├\n",
       "   └─────────────────┘"
      ]
     },
     "execution_count": 4,
     "metadata": {},
     "output_type": "execute_result"
    }
   ],
   "source": [
    "#|0> means [1,0], while |1> means [0,1]\n",
    "qc=QuantumCircuit(1)\n",
    "initial_state=[0,1] #defining the initial state to be |1>\n",
    "qc.initialize(initial_state, 0) #applying initialization operation to the 0th qubit\n",
    "qc.draw()"
   ]
  },
  {
   "cell_type": "code",
   "execution_count": 13,
   "id": "04706ec2",
   "metadata": {},
   "outputs": [],
   "source": [
    "#this simulator is not working at all, don't know the reason behind\n",
    "\n",
    "#sim=Aer.get_backend('aer_simulator') #tell qiskit how to run out circuit"
   ]
  },
  {
   "cell_type": "code",
   "execution_count": 15,
   "id": "97958e71",
   "metadata": {},
   "outputs": [],
   "source": [
    "sim=Aer.get_backend('statevector_simulator')"
   ]
  },
  {
   "cell_type": "code",
   "execution_count": 16,
   "id": "7e6e54be",
   "metadata": {},
   "outputs": [],
   "source": [
    "#since the simulator above is not working, the run method is not responding\n",
    "\n",
    "#qc=QuantumCircuit(1)\n",
    "#initial_state=[0,1]\n",
    "#qc.initialize(initial_state, 0)\n",
    "#qc.save_statevector()\n",
    "#qobj=assemble(qc)\n",
    "#result=sim.run(qobj).result()"
   ]
  },
  {
   "cell_type": "code",
   "execution_count": 17,
   "id": "871b7dfe",
   "metadata": {},
   "outputs": [
    {
     "name": "stdout",
     "output_type": "stream",
     "text": [
      "Statevector([0.+0.j, 1.+0.j],\n",
      "            dims=(2,))\n"
     ]
    },
    {
     "data": {
      "image/png": "[encoded data removed]",
      "text/plain": [
       "<Figure size 504x360 with 1 Axes>"
      ]
     },
     "execution_count": 17,
     "metadata": {},
     "output_type": "execute_result"
    }
   ],
   "source": [
    "qc=QuantumCircuit(1)\n",
    "initial_state=[0,1]\n",
    "qc.initialize(initial_state, 0)\n",
    "qc.draw('text')\n",
    "result=execute(qc, sim).result()\n",
    "out_state=result.get_statevector()\n",
    "print(out_state)\n",
    "qc.measure_all()\n",
    "qc.draw()\n",
    "counts=result.get_counts()\n",
    "plot_histogram(counts)"
   ]
  },
  {
   "cell_type": "code",
   "execution_count": 18,
   "id": "f5c96691",
   "metadata": {},
   "outputs": [
    {
     "name": "stdout",
     "output_type": "stream",
     "text": [
      "Statevector([0.70710678+0.j, 0.70710678+0.j],\n",
      "            dims=(2,))\n"
     ]
    },
    {
     "data": {
      "image/png": "[encoded data removed]",
      "text/plain": [
       "<Figure size 504x360 with 1 Axes>"
      ]
     },
     "execution_count": 18,
     "metadata": {},
     "output_type": "execute_result"
    }
   ],
   "source": [
    "#putting the qubit in superposition and measuring it\n",
    "qc=QuantumCircuit(1)\n",
    "initial_state=[1/sqrt(2), 1/sqrt(2)]\n",
    "qc.initialize(initial_state, 0)\n",
    "state=execute(qc, sim).result().get_statevector()\n",
    "print(state)\n",
    "results=execute(qc, sim).result().get_counts()\n",
    "plot_histogram(results)"
   ]
  },
  {
   "cell_type": "code",
   "execution_count": null,
   "id": "72821bf8",
   "metadata": {},
   "outputs": [],
   "source": []
  }
 ],
 "metadata": {
  "kernelspec": {
   "display_name": "Python 3 (ipykernel)",
   "language": "python",
   "name": "python3"
  },
  "language_info": {
   "codemirror_mode": {
    "name": "ipython",
    "version": 3
   },
   "file_extension": ".py",
   "mimetype": "text/x-python",
   "name": "python",
   "nbconvert_exporter": "python",
   "pygments_lexer": "ipython3",
   "version": "3.9.7"
  }
 },
 "nbformat": 4,
 "nbformat_minor": 5
}
