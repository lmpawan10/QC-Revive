{
 "cells": [
  {
   "cell_type": "code",
   "execution_count": 1,
   "id": "8bb89479",
   "metadata": {},
   "outputs": [],
   "source": [
    "import qiskit\n",
    "\n",
    "import matplotlib.pyplot as plt\n",
    "import numpy as np\n",
    "import math\n",
    "\n",
    "from qiskit import QuantumCircuit, Aer, transpile, IBMQ, assemble, ClassicalRegister, QuantumRegister\n",
    "from qiskit.visualization import plot_histogram, plot_bloch_multivector\n",
    "from qiskit.circuit.library import QFT"
   ]
  },
  {
   "cell_type": "markdown",
   "id": "2e6520dc",
   "metadata": {},
   "source": [
    "## QPE with T gate\n",
    "Lets set up the quantum circuit with 4 qubits, where 0,1,2 are counting qubits and 3 is the eigen state of the Unitary Operator(T)"
   ]
  },
  {
   "cell_type": "markdown",
   "id": "d1a36a7f",
   "metadata": {},
   "source": [
    "Lets initialize the initial state $${|\\Psi>=|1>}$$ "
   ]
  },
  {
   "cell_type": "code",
   "execution_count": 2,
   "id": "e89150d1",
   "metadata": {},
   "outputs": [
    {
     "data": {
      "text/html": [
       "<pre style=\"word-wrap: normal;white-space: pre;background: #fff0;line-height: 1.1;font-family: &quot;Courier New&quot;,Courier,monospace\">          \n",
       "q_0: ─────\n",
       "          \n",
       "q_1: ─────\n",
       "          \n",
       "q_2: ─────\n",
       "     ┌───┐\n",
       "q_3: ┤ X ├\n",
       "     └───┘\n",
       "c: 3/═════\n",
       "          </pre>"
      ],
      "text/plain": [
       "          \n",
       "q_0: ─────\n",
       "          \n",
       "q_1: ─────\n",
       "          \n",
       "q_2: ─────\n",
       "     ┌───┐\n",
       "q_3: ┤ X ├\n",
       "     └───┘\n",
       "c: 3/═════\n",
       "          "
      ]
     },
     "execution_count": 2,
     "metadata": {},
     "output_type": "execute_result"
    }
   ],
   "source": [
    "qpe=QuantumCircuit(4,3)\n",
    "qpe.x(3)\n",
    "qpe.draw()"
   ]
  },
  {
   "cell_type": "code",
   "execution_count": 3,
   "id": "ad489d31",
   "metadata": {},
   "outputs": [
    {
     "data": {
      "text/html": [
       "<pre style=\"word-wrap: normal;white-space: pre;background: #fff0;line-height: 1.1;font-family: &quot;Courier New&quot;,Courier,monospace\">     ┌───┐\n",
       "q_0: ┤ H ├\n",
       "     ├───┤\n",
       "q_1: ┤ H ├\n",
       "     ├───┤\n",
       "q_2: ┤ H ├\n",
       "     ├───┤\n",
       "q_3: ┤ X ├\n",
       "     └───┘\n",
       "c: 3/═════\n",
       "          </pre>"
      ],
      "text/plain": [
       "     ┌───┐\n",
       "q_0: ┤ H ├\n",
       "     ├───┤\n",
       "q_1: ┤ H ├\n",
       "     ├───┤\n",
       "q_2: ┤ H ├\n",
       "     ├───┤\n",
       "q_3: ┤ X ├\n",
       "     └───┘\n",
       "c: 3/═════\n",
       "          "
      ]
     },
     "execution_count": 3,
     "metadata": {},
     "output_type": "execute_result"
    }
   ],
   "source": [
    "for qubit in range(3):\n",
    "    qpe.h(qubit)\n",
    "qpe.draw()"
   ]
  },
  {
   "cell_type": "markdown",
   "id": "fa60a421",
   "metadata": {},
   "source": [
    "### Controlled Unitary Operations\n",
    "Now creating the T operation.<br>\n",
    "Since we want to implement T which performs T|1>=e^(2*pi*i*theta)|1>, we have to set lambda=(2*pi/8)=pi/4"
   ]
  },
  {
   "cell_type": "code",
   "execution_count": 4,
   "id": "ec7dd894",
   "metadata": {},
   "outputs": [
    {
     "data": {
      "text/html": [
       "<pre style=\"word-wrap: normal;white-space: pre;background: #fff0;line-height: 1.1;font-family: &quot;Courier New&quot;,Courier,monospace\">     ┌───┐                                                               \n",
       "q_0: ┤ H ├─■─────────────────────────────────────────────────────────────\n",
       "     ├───┤ │                                                             \n",
       "q_1: ┤ H ├─┼────────■────────■───────────────────────────────────────────\n",
       "     ├───┤ │        │        │                                           \n",
       "q_2: ┤ H ├─┼────────┼────────┼────────■────────■────────■────────■───────\n",
       "     ├───┤ │P(π/4)  │P(π/4)  │P(π/4)  │P(π/4)  │P(π/4)  │P(π/4)  │P(π/4) \n",
       "q_3: ┤ X ├─■────────■────────■────────■────────■────────■────────■───────\n",
       "     └───┘                                                               \n",
       "c: 3/════════════════════════════════════════════════════════════════════\n",
       "                                                                         </pre>"
      ],
      "text/plain": [
       "     ┌───┐                                                               \n",
       "q_0: ┤ H ├─■─────────────────────────────────────────────────────────────\n",
       "     ├───┤ │                                                             \n",
       "q_1: ┤ H ├─┼────────■────────■───────────────────────────────────────────\n",
       "     ├───┤ │        │        │                                           \n",
       "q_2: ┤ H ├─┼────────┼────────┼────────■────────■────────■────────■───────\n",
       "     ├───┤ │P(π/4)  │P(π/4)  │P(π/4)  │P(π/4)  │P(π/4)  │P(π/4)  │P(π/4) \n",
       "q_3: ┤ X ├─■────────■────────■────────■────────■────────■────────■───────\n",
       "     └───┘                                                               \n",
       "c: 3/════════════════════════════════════════════════════════════════════\n",
       "                                                                         "
      ]
     },
     "execution_count": 4,
     "metadata": {},
     "output_type": "execute_result"
    }
   ],
   "source": [
    "repetitions = 1\n",
    "for counting_qubit in range(3):\n",
    "    for i in range(repetitions):\n",
    "        qpe.cp(math.pi/4, counting_qubit, 3)\n",
    "    repetitions *=2\n",
    "qpe.draw()"
   ]
  },
  {
   "cell_type": "markdown",
   "id": "a3373a42",
   "metadata": {},
   "source": [
    "Applying Inverse FT to convert the state of the counting register and measuring the register"
   ]
  },
  {
   "cell_type": "code",
   "execution_count": 5,
   "id": "de51b69e",
   "metadata": {},
   "outputs": [
    {
     "data": {
      "text/html": [
       "<pre style=\"word-wrap: normal;white-space: pre;background: #fff0;line-height: 1.1;font-family: &quot;Courier New&quot;,Courier,monospace\">     ┌───┐                                                                ░ »\n",
       "q_0: ┤ H ├─■──────────────────────────────────────────────────────────────░─»\n",
       "     ├───┤ │                                                              ░ »\n",
       "q_1: ┤ H ├─┼────────■────────■────────────────────────────────────────────░─»\n",
       "     ├───┤ │        │        │                                            ░ »\n",
       "q_2: ┤ H ├─┼────────┼────────┼────────■────────■────────■────────■────────░─»\n",
       "     ├───┤ │P(π/4)  │P(π/4)  │P(π/4)  │P(π/4)  │P(π/4)  │P(π/4)  │P(π/4)  ░ »\n",
       "q_3: ┤ X ├─■────────■────────■────────■────────■────────■────────■────────░─»\n",
       "     └───┘                                                                ░ »\n",
       "c: 3/═══════════════════════════════════════════════════════════════════════»\n",
       "                                                                            »\n",
       "«     ┌──────────┐ ░ ┌─┐      \n",
       "«q_0: ┤0         ├─░─┤M├──────\n",
       "«     │          │ ░ └╥┘┌─┐   \n",
       "«q_1: ┤1 IQFT_dg ├─░──╫─┤M├───\n",
       "«     │          │ ░  ║ └╥┘┌─┐\n",
       "«q_2: ┤2         ├─░──╫──╫─┤M├\n",
       "«     └──────────┘ ░  ║  ║ └╥┘\n",
       "«q_3: ─────────────░──╫──╫──╫─\n",
       "«                  ░  ║  ║  ║ \n",
       "«c: 3/════════════════╩══╩══╩═\n",
       "«                     0  1  2 </pre>"
      ],
      "text/plain": [
       "     ┌───┐                                                                ░ »\n",
       "q_0: ┤ H ├─■──────────────────────────────────────────────────────────────░─»\n",
       "     ├───┤ │                                                              ░ »\n",
       "q_1: ┤ H ├─┼────────■────────■────────────────────────────────────────────░─»\n",
       "     ├───┤ │        │        │                                            ░ »\n",
       "q_2: ┤ H ├─┼────────┼────────┼────────■────────■────────■────────■────────░─»\n",
       "     ├───┤ │P(π/4)  │P(π/4)  │P(π/4)  │P(π/4)  │P(π/4)  │P(π/4)  │P(π/4)  ░ »\n",
       "q_3: ┤ X ├─■────────■────────■────────■────────■────────■────────■────────░─»\n",
       "     └───┘                                                                ░ »\n",
       "c: 3/═══════════════════════════════════════════════════════════════════════»\n",
       "                                                                            »\n",
       "«     ┌──────────┐ ░ ┌─┐      \n",
       "«q_0: ┤0         ├─░─┤M├──────\n",
       "«     │          │ ░ └╥┘┌─┐   \n",
       "«q_1: ┤1 IQFT_dg ├─░──╫─┤M├───\n",
       "«     │          │ ░  ║ └╥┘┌─┐\n",
       "«q_2: ┤2         ├─░──╫──╫─┤M├\n",
       "«     └──────────┘ ░  ║  ║ └╥┘\n",
       "«q_3: ─────────────░──╫──╫──╫─\n",
       "«                  ░  ║  ║  ║ \n",
       "«c: 3/════════════════╩══╩══╩═\n",
       "«                     0  1  2 "
      ]
     },
     "execution_count": 5,
     "metadata": {},
     "output_type": "execute_result"
    }
   ],
   "source": [
    "qpe.barrier()\n",
    "qpe = qpe.compose(QFT(3, inverse=True),[0,1,2])\n",
    "qpe.barrier()\n",
    "\n",
    "for n in range(3):\n",
    "    qpe.measure(n,n)\n",
    "    \n",
    "qpe.draw()"
   ]
  },
  {
   "cell_type": "code",
   "execution_count": 7,
   "id": "cb85e265",
   "metadata": {},
   "outputs": [
    {
     "data": {
      "image/png": "[encoded data removed]",
      "text/plain": [
       "<Figure size 504x360 with 1 Axes>"
      ]
     },
     "execution_count": 7,
     "metadata": {},
     "output_type": "execute_result"
    }
   ],
   "source": [
    "aer_sim=Aer.get_backend('aer_simulator')\n",
    "shots=2048\n",
    "results=aer_sim.run(transpile(qpe, aer_sim), shots=shots).result()\n",
    "count=results.get_counts()\n",
    "plot_histogram(count)"
   ]
  },
  {
   "cell_type": "markdown",
   "id": "5109ca9e",
   "metadata": {},
   "source": [
    "From the above histogram, we observe that the result is 001 with certainty.<br>\n",
    "001 translates to decimal 1.<br>\n",
    "Now, we have to divide this result (i.e.,1) by 2^n to get the value of theta."
   ]
  },
  {
   "attachments": {
    "image.png": {
     "image/png": "[encoded data removed]"
    }
   },
   "cell_type": "markdown",
   "id": "9ce196ff",
   "metadata": {},
   "source": [
    "![image.png](attachment:image.png)\n",
    "which is the result we expected."
   ]
  },
  {
   "cell_type": "markdown",
   "id": "dc470052",
   "metadata": {},
   "source": [
    "## Observe the effect of getting more precision"
   ]
  },
  {
   "cell_type": "markdown",
   "id": "5a26ab35",
   "metadata": {},
   "source": [
    "For this case, lets take the gate with theta=1/3<br>\n",
    "So, we want to implement U|1>=e^(2*pi*i*(1/3))|1><br>\n",
    "For this, we have to set lambda=(2*pi)/3"
   ]
  },
  {
   "cell_type": "code",
   "execution_count": 14,
   "id": "a50ea335",
   "metadata": {},
   "outputs": [
    {
     "data": {
      "text/html": [
       "<pre style=\"word-wrap: normal;white-space: pre;background: #fff0;line-height: 1.1;font-family: &quot;Courier New&quot;,Courier,monospace\">     ┌───┐                                                            »\n",
       "q_0: ┤ H ├─■──────────────────────────────────────────────────────────»\n",
       "     ├───┤ │                                                          »\n",
       "q_1: ┤ H ├─┼─────────■─────────■──────────────────────────────────────»\n",
       "     ├───┤ │         │         │                                      »\n",
       "q_2: ┤ H ├─┼─────────┼─────────┼─────────■─────────■─────────■────────»\n",
       "     ├───┤ │P(2π/3)  │P(2π/3)  │P(2π/3)  │P(2π/3)  │P(2π/3)  │P(2π/3) »\n",
       "q_3: ┤ X ├─■─────────■─────────■─────────■─────────■─────────■────────»\n",
       "     └───┘                                                            »\n",
       "c: 3/═════════════════════════════════════════════════════════════════»\n",
       "                                                                      »\n",
       "«               ┌──────────┐┌─┐      \n",
       "«q_0: ──────────┤0         ├┤M├──────\n",
       "«               │          │└╥┘┌─┐   \n",
       "«q_1: ──────────┤1 IQFT_dg ├─╫─┤M├───\n",
       "«               │          │ ║ └╥┘┌─┐\n",
       "«q_2: ─■────────┤2         ├─╫──╫─┤M├\n",
       "«      │P(2π/3) └──────────┘ ║  ║ └╥┘\n",
       "«q_3: ─■─────────────────────╫──╫──╫─\n",
       "«                            ║  ║  ║ \n",
       "«c: 3/═══════════════════════╩══╩══╩═\n",
       "«                            0  1  2 </pre>"
      ],
      "text/plain": [
       "     ┌───┐                                                            »\n",
       "q_0: ┤ H ├─■──────────────────────────────────────────────────────────»\n",
       "     ├───┤ │                                                          »\n",
       "q_1: ┤ H ├─┼─────────■─────────■──────────────────────────────────────»\n",
       "     ├───┤ │         │         │                                      »\n",
       "q_2: ┤ H ├─┼─────────┼─────────┼─────────■─────────■─────────■────────»\n",
       "     ├───┤ │P(2π/3)  │P(2π/3)  │P(2π/3)  │P(2π/3)  │P(2π/3)  │P(2π/3) »\n",
       "q_3: ┤ X ├─■─────────■─────────■─────────■─────────■─────────■────────»\n",
       "     └───┘                                                            »\n",
       "c: 3/═════════════════════════════════════════════════════════════════»\n",
       "                                                                      »\n",
       "«               ┌──────────┐┌─┐      \n",
       "«q_0: ──────────┤0         ├┤M├──────\n",
       "«               │          │└╥┘┌─┐   \n",
       "«q_1: ──────────┤1 IQFT_dg ├─╫─┤M├───\n",
       "«               │          │ ║ └╥┘┌─┐\n",
       "«q_2: ─■────────┤2         ├─╫──╫─┤M├\n",
       "«      │P(2π/3) └──────────┘ ║  ║ └╥┘\n",
       "«q_3: ─■─────────────────────╫──╫──╫─\n",
       "«                            ║  ║  ║ \n",
       "«c: 3/═══════════════════════╩══╩══╩═\n",
       "«                            0  1  2 "
      ]
     },
     "execution_count": 14,
     "metadata": {},
     "output_type": "execute_result"
    }
   ],
   "source": [
    "qpe=QuantumCircuit(4,3)\n",
    "qpe.x(3)\n",
    "\n",
    "for qubit in range(3):\n",
    "    qpe.h(qubit)\n",
    "\n",
    "repetitions=1\n",
    "for counting_qubits in range(3):\n",
    "    for qubit in range(repetitions):\n",
    "        qpe.cp(2*math.pi/3, counting_qubits, 3)\n",
    "    repetitions *= 2\n",
    "\n",
    "qpe=qpe.compose(QFT(3, inverse=True), [0,1,2])\n",
    "\n",
    "for n in range(3):\n",
    "    qpe.measure(n,n)\n",
    "\n",
    "qpe.draw()"
   ]
  },
  {
   "cell_type": "code",
   "execution_count": 15,
   "id": "238ddf75",
   "metadata": {},
   "outputs": [
    {
     "data": {
      "image/png": "[encoded data removed]",
      "text/plain": [
       "<Figure size 504x360 with 1 Axes>"
      ]
     },
     "execution_count": 15,
     "metadata": {},
     "output_type": "execute_result"
    }
   ],
   "source": [
    "aer_sim=Aer.get_backend('aer_simulator')\n",
    "shots=4096\n",
    "results=aer_sim.run(transpile(qpe, aer_sim), shots=shots).result().get_counts()\n",
    "plot_histogram(results)"
   ]
  },
  {
   "cell_type": "markdown",
   "id": "00c92722",
   "metadata": {},
   "source": [
    "Here, we are expecting the result to be theta=0.3333.... But what we are seeing is that the most likely results are 010 and 011 with higher probability than others.<br>\n",
    "It can be predicted that the result lies between 010 and 011. However, the actual is not found yet and if we consider 011 to be the result, it comes with very less precision.<br>\n",
    "Thus, we require a solution for this issue.\n",
    "### Solution"
   ]
  },
  {
   "cell_type": "code",
   "execution_count": 20,
   "id": "b6a804ce",
   "metadata": {},
   "outputs": [
    {
     "data": {
      "text/html": [
       "<pre style=\"word-wrap: normal;white-space: pre;background: #fff0;line-height: 1.1;font-family: &quot;Courier New&quot;,Courier,monospace\">     ┌───┐                                                            »\n",
       "q_0: ┤ H ├─■──────────────────────────────────────────────────────────»\n",
       "     ├───┤ │                                                          »\n",
       "q_1: ┤ H ├─┼─────────■─────────■──────────────────────────────────────»\n",
       "     ├───┤ │         │         │                                      »\n",
       "q_2: ┤ H ├─┼─────────┼─────────┼─────────■─────────■─────────■────────»\n",
       "     ├───┤ │         │         │         │         │         │        »\n",
       "q_3: ┤ H ├─┼─────────┼─────────┼─────────┼─────────┼─────────┼────────»\n",
       "     ├───┤ │         │         │         │         │         │        »\n",
       "q_4: ┤ H ├─┼─────────┼─────────┼─────────┼─────────┼─────────┼────────»\n",
       "     ├───┤ │P(2π/3)  │P(2π/3)  │P(2π/3)  │P(2π/3)  │P(2π/3)  │P(2π/3) »\n",
       "q_5: ┤ X ├─■─────────■─────────■─────────■─────────■─────────■────────»\n",
       "     └───┘                                                            »\n",
       "c: 5/═════════════════════════════════════════════════════════════════»\n",
       "                                                                      »\n",
       "«                                                                           »\n",
       "«q_0: ──────────────────────────────────────────────────────────────────────»\n",
       "«                                                                           »\n",
       "«q_1: ──────────────────────────────────────────────────────────────────────»\n",
       "«                                                                           »\n",
       "«q_2: ─■────────────────────────────────────────────────────────────────────»\n",
       "«      │                                                                    »\n",
       "«q_3: ─┼─────────■─────────■─────────■─────────■─────────■─────────■────────»\n",
       "«      │         │         │         │         │         │         │        »\n",
       "«q_4: ─┼─────────┼─────────┼─────────┼─────────┼─────────┼─────────┼────────»\n",
       "«      │P(2π/3)  │P(2π/3)  │P(2π/3)  │P(2π/3)  │P(2π/3)  │P(2π/3)  │P(2π/3) »\n",
       "«q_5: ─■─────────■─────────■─────────■─────────■─────────■─────────■────────»\n",
       "«                                                                           »\n",
       "«c: 5/══════════════════════════════════════════════════════════════════════»\n",
       "«                                                                           »\n",
       "«                                                                           »\n",
       "«q_0: ──────────────────────────────────────────────────────────────────────»\n",
       "«                                                                           »\n",
       "«q_1: ──────────────────────────────────────────────────────────────────────»\n",
       "«                                                                           »\n",
       "«q_2: ──────────────────────────────────────────────────────────────────────»\n",
       "«                                                                           »\n",
       "«q_3: ─■─────────■──────────────────────────────────────────────────────────»\n",
       "«      │         │                                                          »\n",
       "«q_4: ─┼─────────┼─────────■─────────■─────────■─────────■─────────■────────»\n",
       "«      │P(2π/3)  │P(2π/3)  │P(2π/3)  │P(2π/3)  │P(2π/3)  │P(2π/3)  │P(2π/3) »\n",
       "«q_5: ─■─────────■─────────■─────────■─────────■─────────■─────────■────────»\n",
       "«                                                                           »\n",
       "«c: 5/══════════════════════════════════════════════════════════════════════»\n",
       "«                                                                           »\n",
       "«                                                                           »\n",
       "«q_0: ──────────────────────────────────────────────────────────────────────»\n",
       "«                                                                           »\n",
       "«q_1: ──────────────────────────────────────────────────────────────────────»\n",
       "«                                                                           »\n",
       "«q_2: ──────────────────────────────────────────────────────────────────────»\n",
       "«                                                                           »\n",
       "«q_3: ──────────────────────────────────────────────────────────────────────»\n",
       "«                                                                           »\n",
       "«q_4: ─■─────────■─────────■─────────■─────────■─────────■─────────■────────»\n",
       "«      │P(2π/3)  │P(2π/3)  │P(2π/3)  │P(2π/3)  │P(2π/3)  │P(2π/3)  │P(2π/3) »\n",
       "«q_5: ─■─────────■─────────■─────────■─────────■─────────■─────────■────────»\n",
       "«                                                                           »\n",
       "«c: 5/══════════════════════════════════════════════════════════════════════»\n",
       "«                                                                           »\n",
       "«                                             ┌──────────┐ ░ ┌─┐            \n",
       "«q_0: ────────────────────────────────────────┤0         ├─░─┤M├────────────\n",
       "«                                             │          │ ░ └╥┘┌─┐         \n",
       "«q_1: ────────────────────────────────────────┤1         ├─░──╫─┤M├─────────\n",
       "«                                             │          │ ░  ║ └╥┘┌─┐      \n",
       "«q_2: ────────────────────────────────────────┤2 IQFT_dg ├─░──╫──╫─┤M├──────\n",
       "«                                             │          │ ░  ║  ║ └╥┘┌─┐   \n",
       "«q_3: ────────────────────────────────────────┤3         ├─░──╫──╫──╫─┤M├───\n",
       "«                                             │          │ ░  ║  ║  ║ └╥┘┌─┐\n",
       "«q_4: ─■─────────■─────────■─────────■────────┤4         ├─░──╫──╫──╫──╫─┤M├\n",
       "«      │P(2π/3)  │P(2π/3)  │P(2π/3)  │P(2π/3) └──────────┘ ░  ║  ║  ║  ║ └╥┘\n",
       "«q_5: ─■─────────■─────────■─────────■─────────────────────░──╫──╫──╫──╫──╫─\n",
       "«                                                          ░  ║  ║  ║  ║  ║ \n",
       "«c: 5/════════════════════════════════════════════════════════╩══╩══╩══╩══╩═\n",
       "«                                                             0  1  2  3  4 </pre>"
      ],
      "text/plain": [
       "     ┌───┐                                                            »\n",
       "q_0: ┤ H ├─■──────────────────────────────────────────────────────────»\n",
       "     ├───┤ │                                                          »\n",
       "q_1: ┤ H ├─┼─────────■─────────■──────────────────────────────────────»\n",
       "     ├───┤ │         │         │                                      »\n",
       "q_2: ┤ H ├─┼─────────┼─────────┼─────────■─────────■─────────■────────»\n",
       "     ├───┤ │         │         │         │         │         │        »\n",
       "q_3: ┤ H ├─┼─────────┼─────────┼─────────┼─────────┼─────────┼────────»\n",
       "     ├───┤ │         │         │         │         │         │        »\n",
       "q_4: ┤ H ├─┼─────────┼─────────┼─────────┼─────────┼─────────┼────────»\n",
       "     ├───┤ │P(2π/3)  │P(2π/3)  │P(2π/3)  │P(2π/3)  │P(2π/3)  │P(2π/3) »\n",
       "q_5: ┤ X ├─■─────────■─────────■─────────■─────────■─────────■────────»\n",
       "     └───┘                                                            »\n",
       "c: 5/═════════════════════════════════════════════════════════════════»\n",
       "                                                                      »\n",
       "«                                                                           »\n",
       "«q_0: ──────────────────────────────────────────────────────────────────────»\n",
       "«                                                                           »\n",
       "«q_1: ──────────────────────────────────────────────────────────────────────»\n",
       "«                                                                           »\n",
       "«q_2: ─■────────────────────────────────────────────────────────────────────»\n",
       "«      │                                                                    »\n",
       "«q_3: ─┼─────────■─────────■─────────■─────────■─────────■─────────■────────»\n",
       "«      │         │         │         │         │         │         │        »\n",
       "«q_4: ─┼─────────┼─────────┼─────────┼─────────┼─────────┼─────────┼────────»\n",
       "«      │P(2π/3)  │P(2π/3)  │P(2π/3)  │P(2π/3)  │P(2π/3)  │P(2π/3)  │P(2π/3) »\n",
       "«q_5: ─■─────────■─────────■─────────■─────────■─────────■─────────■────────»\n",
       "«                                                                           »\n",
       "«c: 5/══════════════════════════════════════════════════════════════════════»\n",
       "«                                                                           »\n",
       "«                                                                           »\n",
       "«q_0: ──────────────────────────────────────────────────────────────────────»\n",
       "«                                                                           »\n",
       "«q_1: ──────────────────────────────────────────────────────────────────────»\n",
       "«                                                                           »\n",
       "«q_2: ──────────────────────────────────────────────────────────────────────»\n",
       "«                                                                           »\n",
       "«q_3: ─■─────────■──────────────────────────────────────────────────────────»\n",
       "«      │         │                                                          »\n",
       "«q_4: ─┼─────────┼─────────■─────────■─────────■─────────■─────────■────────»\n",
       "«      │P(2π/3)  │P(2π/3)  │P(2π/3)  │P(2π/3)  │P(2π/3)  │P(2π/3)  │P(2π/3) »\n",
       "«q_5: ─■─────────■─────────■─────────■─────────■─────────■─────────■────────»\n",
       "«                                                                           »\n",
       "«c: 5/══════════════════════════════════════════════════════════════════════»\n",
       "«                                                                           »\n",
       "«                                                                           »\n",
       "«q_0: ──────────────────────────────────────────────────────────────────────»\n",
       "«                                                                           »\n",
       "«q_1: ──────────────────────────────────────────────────────────────────────»\n",
       "«                                                                           »\n",
       "«q_2: ──────────────────────────────────────────────────────────────────────»\n",
       "«                                                                           »\n",
       "«q_3: ──────────────────────────────────────────────────────────────────────»\n",
       "«                                                                           »\n",
       "«q_4: ─■─────────■─────────■─────────■─────────■─────────■─────────■────────»\n",
       "«      │P(2π/3)  │P(2π/3)  │P(2π/3)  │P(2π/3)  │P(2π/3)  │P(2π/3)  │P(2π/3) »\n",
       "«q_5: ─■─────────■─────────■─────────■─────────■─────────■─────────■────────»\n",
       "«                                                                           »\n",
       "«c: 5/══════════════════════════════════════════════════════════════════════»\n",
       "«                                                                           »\n",
       "«                                             ┌──────────┐ ░ ┌─┐            \n",
       "«q_0: ────────────────────────────────────────┤0         ├─░─┤M├────────────\n",
       "«                                             │          │ ░ └╥┘┌─┐         \n",
       "«q_1: ────────────────────────────────────────┤1         ├─░──╫─┤M├─────────\n",
       "«                                             │          │ ░  ║ └╥┘┌─┐      \n",
       "«q_2: ────────────────────────────────────────┤2 IQFT_dg ├─░──╫──╫─┤M├──────\n",
       "«                                             │          │ ░  ║  ║ └╥┘┌─┐   \n",
       "«q_3: ────────────────────────────────────────┤3         ├─░──╫──╫──╫─┤M├───\n",
       "«                                             │          │ ░  ║  ║  ║ └╥┘┌─┐\n",
       "«q_4: ─■─────────■─────────■─────────■────────┤4         ├─░──╫──╫──╫──╫─┤M├\n",
       "«      │P(2π/3)  │P(2π/3)  │P(2π/3)  │P(2π/3) └──────────┘ ░  ║  ║  ║  ║ └╥┘\n",
       "«q_5: ─■─────────■─────────■─────────■─────────────────────░──╫──╫──╫──╫──╫─\n",
       "«                                                          ░  ║  ║  ║  ║  ║ \n",
       "«c: 5/════════════════════════════════════════════════════════╩══╩══╩══╩══╩═\n",
       "«                                                             0  1  2  3  4 "
      ]
     },
     "execution_count": 20,
     "metadata": {},
     "output_type": "execute_result"
    }
   ],
   "source": [
    "qpe=QuantumCircuit(6,5)\n",
    "\n",
    "qpe.x(5)\n",
    "\n",
    "for qubit in range(5):\n",
    "    qpe.h(qubit)\n",
    "    \n",
    "repetitions=1\n",
    "for counting_qubits in range(5):\n",
    "    for qubit in range(repetitions):\n",
    "        qpe.cp(2*math.pi/3, counting_qubits, 5)\n",
    "    repetitions *= 2\n",
    "\n",
    "qpe=qpe.compose(QFT(5, inverse=True), range(5))\n",
    "\n",
    "qpe.barrier()\n",
    "for n in range(5):\n",
    "    qpe.measure(n,n)\n",
    "qpe.draw()"
   ]
  },
  {
   "cell_type": "code",
   "execution_count": 21,
   "id": "3c69feba",
   "metadata": {},
   "outputs": [
    {
     "data": {
      "image/png": "[encoded data removed]",
      "text/plain": [
       "<Figure size 504x360 with 1 Axes>"
      ]
     },
     "execution_count": 21,
     "metadata": {},
     "output_type": "execute_result"
    }
   ],
   "source": [
    "aer_sim=Aer.get_backend('aer_simulator')\n",
    "shots=4096\n",
    "result=aer_sim.run(transpile(qpe, aer_sim), shots=shots).result().get_counts()\n",
    "plot_histogram(result)"
   ]
  },
  {
   "attachments": {
    "image.png": {
     "image/png": "[encoded data removed]"
    }
   },
   "cell_type": "markdown",
   "id": "6659a1bd",
   "metadata": {},
   "source": [
    "From the above histogram, it is observed that 01011( decimal 11) and 01010(decimal 10) are observed with higher probability than others.<br>\n",
    "So, taking this as the result and calculating theta,\n",
    "![image.png](attachment:image.png)\n",
    "These two results differ from 1/3(actual theta) by 3% and 6% respectively.<br>\n",
    "#### Thus, this has yielded a better precision in the phase value."
   ]
  },
  {
   "cell_type": "code",
   "execution_count": null,
   "id": "d0e16443",
   "metadata": {},
   "outputs": [],
   "source": []
  }
 ],
 "metadata": {
  "kernelspec": {
   "display_name": "Python 3 (ipykernel)",
   "language": "python",
   "name": "python3"
  },
  "language_info": {
   "codemirror_mode": {
    "name": "ipython",
    "version": 3
   },
   "file_extension": ".py",
   "mimetype": "text/x-python",
   "name": "python",
   "nbconvert_exporter": "python",
   "pygments_lexer": "ipython3",
   "version": "3.9.7"
  }
 },
 "nbformat": 4,
 "nbformat_minor": 5
}
