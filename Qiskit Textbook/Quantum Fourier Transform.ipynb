{
 "cells": [
  {
   "cell_type": "code",
   "execution_count": 2,
   "id": "8d4e0d3c",
   "metadata": {},
   "outputs": [],
   "source": [
    "import qiskit\n",
    "from qiskit import Aer, execute, transpile, assemble, QuantumCircuit\n",
    "from qiskit.circuit.library import QFT\n",
    "from qiskit.quantum_info import Statevector\n",
    "from qiskit.visualization import plot_histogram, plot_bloch_multivector\n",
    "import numpy as np"
   ]
  },
  {
   "cell_type": "code",
   "execution_count": 8,
   "id": "a6bfce11",
   "metadata": {},
   "outputs": [
    {
     "ename": "AttributeError",
     "evalue": "'QuantumCircuit' object has no attribute 'cu1'",
     "output_type": "error",
     "traceback": [
      "\u001b[1;31m---------------------------------------------------------------------------\u001b[0m",
      "\u001b[1;31mAttributeError\u001b[0m                            Traceback (most recent call last)",
      "\u001b[1;32m~\\AppData\\Local\\Temp/ipykernel_10036/2723582502.py\u001b[0m in \u001b[0;36m<module>\u001b[1;34m\u001b[0m\n\u001b[0;32m     11\u001b[0m             \u001b[1;32mreturn\u001b[0m \u001b[0mmyQFT_circuit\u001b[0m\u001b[1;33m\u001b[0m\u001b[1;33m\u001b[0m\u001b[0m\n\u001b[0;32m     12\u001b[0m \u001b[1;33m\u001b[0m\u001b[0m\n\u001b[1;32m---> 13\u001b[1;33m \u001b[0mdisplay\u001b[0m\u001b[1;33m(\u001b[0m\u001b[0mmyQFT\u001b[0m\u001b[1;33m(\u001b[0m\u001b[1;36m4\u001b[0m\u001b[1;33m)\u001b[0m\u001b[1;33m.\u001b[0m\u001b[0mdraw\u001b[0m\u001b[1;33m(\u001b[0m\u001b[1;33m)\u001b[0m\u001b[1;33m)\u001b[0m\u001b[1;33m\u001b[0m\u001b[1;33m\u001b[0m\u001b[0m\n\u001b[0m",
      "\u001b[1;32m~\\AppData\\Local\\Temp/ipykernel_10036/2723582502.py\u001b[0m in \u001b[0;36mmyQFT\u001b[1;34m(nqubits)\u001b[0m\n\u001b[0;32m      7\u001b[0m         \u001b[0mmyQFT_circuit\u001b[0m\u001b[1;33m.\u001b[0m\u001b[0mh\u001b[0m\u001b[1;33m(\u001b[0m\u001b[0mqubit\u001b[0m\u001b[1;33m)\u001b[0m\u001b[1;33m\u001b[0m\u001b[1;33m\u001b[0m\u001b[0m\n\u001b[0;32m      8\u001b[0m         \u001b[1;32mfor\u001b[0m \u001b[0motherqubit\u001b[0m \u001b[1;32min\u001b[0m \u001b[0mrange\u001b[0m\u001b[1;33m(\u001b[0m\u001b[0mqubit\u001b[0m\u001b[1;33m+\u001b[0m\u001b[1;36m1\u001b[0m\u001b[1;33m,\u001b[0m \u001b[0mnqubits\u001b[0m\u001b[1;33m)\u001b[0m\u001b[1;33m:\u001b[0m\u001b[1;33m\u001b[0m\u001b[1;33m\u001b[0m\u001b[0m\n\u001b[1;32m----> 9\u001b[1;33m             \u001b[0mmyQFT_circuit\u001b[0m\u001b[1;33m.\u001b[0m\u001b[0mcu1\u001b[0m\u001b[1;33m(\u001b[0m\u001b[0mpi\u001b[0m\u001b[1;33m/\u001b[0m\u001b[1;33m(\u001b[0m\u001b[1;36m2\u001b[0m\u001b[1;33m**\u001b[0m\u001b[1;33m(\u001b[0m\u001b[0motherqubit\u001b[0m\u001b[1;33m-\u001b[0m\u001b[0mqubit\u001b[0m\u001b[1;33m)\u001b[0m\u001b[1;33m)\u001b[0m\u001b[1;33m,\u001b[0m \u001b[0motherqubit\u001b[0m\u001b[1;33m,\u001b[0m \u001b[0mqubit\u001b[0m\u001b[1;33m)\u001b[0m\u001b[1;33m\u001b[0m\u001b[1;33m\u001b[0m\u001b[0m\n\u001b[0m\u001b[0;32m     10\u001b[0m \u001b[1;33m\u001b[0m\u001b[0m\n\u001b[0;32m     11\u001b[0m             \u001b[1;32mreturn\u001b[0m \u001b[0mmyQFT_circuit\u001b[0m\u001b[1;33m\u001b[0m\u001b[1;33m\u001b[0m\u001b[0m\n",
      "\u001b[1;31mAttributeError\u001b[0m: 'QuantumCircuit' object has no attribute 'cu1'"
     ]
    }
   ],
   "source": [
    "pi=np.pi\n",
    "\n",
    "def myQFT(nqubits):\n",
    "    myQFT_circuit=QuantumCircuit(nqubits)\n",
    "    \n",
    "    for qubit in range(nqubits):\n",
    "        myQFT_circuit.h(qubit)\n",
    "        for otherqubit in range(qubit+1, nqubits):\n",
    "            myQFT_circuit.cu1(pi/(2**(otherqubit-qubit)), otherqubit, qubit)\n",
    "            \n",
    "            return myQFT_circuit\n",
    "        \n",
    "display(myQFT(4).draw())"
   ]
  },
  {
   "cell_type": "code",
   "execution_count": 12,
   "id": "d095f298",
   "metadata": {},
   "outputs": [
    {
     "data": {
      "text/html": [
       "<pre style=\"word-wrap: normal;white-space: pre;background: #fff0;line-height: 1.1;font-family: &quot;Courier New&quot;,Courier,monospace\">                                     \n",
       "q_0: ──────■─────────────────────────\n",
       "           │                         \n",
       "q_1: ──────┼────────■────────────────\n",
       "           │        │                \n",
       "q_2: ──────┼────────┼────────■───────\n",
       "     ┌───┐ │P(π/8)  │P(π/4)  │P(π/2) \n",
       "q_3: ┤ H ├─■────────■────────■───────\n",
       "     └───┘                           </pre>"
      ],
      "text/plain": [
       "                                     \n",
       "q_0: ──────■─────────────────────────\n",
       "           │                         \n",
       "q_1: ──────┼────────■────────────────\n",
       "           │        │                \n",
       "q_2: ──────┼────────┼────────■───────\n",
       "     ┌───┐ │P(π/8)  │P(π/4)  │P(π/2) \n",
       "q_3: ┤ H ├─■────────■────────■───────\n",
       "     └───┘                           "
      ]
     },
     "execution_count": 12,
     "metadata": {},
     "output_type": "execute_result"
    }
   ],
   "source": [
    "def qft_rotations(circuit, n):\n",
    "    \n",
    "    if n==0:\n",
    "        return circuit\n",
    "    \n",
    "    n-=1\n",
    "    circuit.h(n)\n",
    "    for qubit in range(n):\n",
    "        circuit.cp(pi/2**(n-qubit), qubit, n)\n",
    "        \n",
    "    qft_rotations(circuit, n)"
   ]
  },
  {
   "cell_type": "code",
   "execution_count": null,
   "id": "abec44ac",
   "metadata": {},
   "outputs": [],
   "source": [
    "def swap_registers(circuit, n):\n",
    "    for qubit in range(n//2):\n",
    "        circuit.swap(qubit, n-qubit-1)\n",
    "    return circuit\n",
    "\n",
    "def qft(circuit, n):\n",
    "    \"\"\"QFT on the first n qubits in circuit\"\"\"\n",
    "    qft_rotations(circuit, n)\n",
    "    swap_registers(circuit, n)\n",
    "    return circuit\n",
    "\n",
    "# Let's see how it looks:\n",
    "qc = QuantumCircuit(4)\n",
    "qft(qc,4)\n",
    "qc.draw()"
   ]
  },
  {
   "cell_type": "code",
   "execution_count": null,
   "id": "ae4d1050",
   "metadata": {},
   "outputs": [],
   "source": []
  }
 ],
 "metadata": {
  "kernelspec": {
   "display_name": "Python 3 (ipykernel)",
   "language": "python",
   "name": "python3"
  },
  "language_info": {
   "codemirror_mode": {
    "name": "ipython",
    "version": 3
   },
   "file_extension": ".py",
   "mimetype": "text/x-python",
   "name": "python",
   "nbconvert_exporter": "python",
   "pygments_lexer": "ipython3",
   "version": "3.9.7"
  }
 },
 "nbformat": 4,
 "nbformat_minor": 5
}
